{
  "nbformat": 4,
  "nbformat_minor": 0,
  "metadata": {
    "colab": {
      "name": "colabtest.ipynb",
      "provenance": [],
      "authorship_tag": "ABX9TyMNSY7yst74833SzqWO6TI1",
      "include_colab_link": true
    },
    "kernelspec": {
      "name": "python3",
      "display_name": "Python 3"
    }
  },
  "cells": [
    {
      "cell_type": "markdown",
      "metadata": {
        "id": "view-in-github",
        "colab_type": "text"
      },
      "source": [
        "<a href=\"https://colab.research.google.com/github/headisnotsmall/_0716MLclass/blob/master/colabtest.ipynb\" target=\"_parent\"><img src=\"https://colab.research.google.com/assets/colab-badge.svg\" alt=\"Open In Colab\"/></a>"
      ]
    },
    {
      "cell_type": "markdown",
      "metadata": {
        "id": "h6hho1xhc58a",
        "colab_type": "text"
      },
      "source": [
        "1. Runtime >> Change Runtimetype >> 可選擇則GPU\n",
        "2. Tools >> 選擇狗狗跟貓咪、還有combo特效\n",
        "3. File >> Safe and pin version >> 版本/檢查點存檔\n"
      ]
    },
    {
      "cell_type": "code",
      "metadata": {
        "id": "Wtnczsgfcnab",
        "colab_type": "code",
        "colab": {}
      },
      "source": [
        ""
      ],
      "execution_count": null,
      "outputs": []
    }
  ]
}
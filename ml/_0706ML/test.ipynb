{
 "cells": [
  {
   "cell_type": "code",
   "execution_count": 1,
   "metadata": {
    "collapsed": true
   },
   "outputs": [
    {
     "ename": "ModuleNotFoundError",
     "evalue": "No module named 'sklearn'",
     "output_type": "error",
     "traceback": [
      "\u001b[1;31m---------------------------------------------------------------------------\u001b[0m",
      "\u001b[1;31mModuleNotFoundError\u001b[0m                       Traceback (most recent call last)",
      "\u001b[1;32m<ipython-input-1-e1c016dd4e8f>\u001b[0m in \u001b[0;36m<module>\u001b[1;34m\u001b[0m\n\u001b[1;32m----> 1\u001b[1;33m \u001b[1;32mfrom\u001b[0m \u001b[0msklearn\u001b[0m\u001b[1;33m.\u001b[0m\u001b[0mdatasets\u001b[0m \u001b[1;32mimport\u001b[0m \u001b[0mload_iris\u001b[0m\u001b[1;33m\u001b[0m\u001b[1;33m\u001b[0m\u001b[0m\n\u001b[0m\u001b[0;32m      2\u001b[0m \u001b[0miris\u001b[0m \u001b[1;33m=\u001b[0m \u001b[0mload_iris\u001b[0m\u001b[1;33m(\u001b[0m\u001b[1;33m)\u001b[0m\u001b[1;33m\u001b[0m\u001b[1;33m\u001b[0m\u001b[0m\n\u001b[0;32m      3\u001b[0m \u001b[0miris\u001b[0m\u001b[1;33m\u001b[0m\u001b[1;33m\u001b[0m\u001b[0m\n",
      "\u001b[1;31mModuleNotFoundError\u001b[0m: No module named 'sklearn'"
     ]
    }
   ],
   "source": [
    "from sklearn.datasets import load_iris\n",
    "iris = load_iris()\n",
    "iris"
   ]
  },
  {
   "cell_type": "code",
<<<<<<< HEAD
   "execution_count": 2,
   "metadata": {
    "collapsed": true
   },
   "outputs": [
    {
     "data": {
      "text/html": [
       "<div>\n",
       "<style scoped>\n",
       "    .dataframe tbody tr th:only-of-type {\n",
       "        vertical-align: middle;\n",
       "    }\n",
       "\n",
       "    .dataframe tbody tr th {\n",
       "        vertical-align: top;\n",
       "    }\n",
       "\n",
       "    .dataframe thead th {\n",
       "        text-align: right;\n",
       "    }\n",
       "</style>\n",
       "<table border=\"1\" class=\"dataframe\">\n",
       "  <thead>\n",
       "    <tr style=\"text-align: right;\">\n",
       "      <th></th>\n",
       "      <th>sepal length (cm)</th>\n",
       "      <th>sepal width (cm)</th>\n",
       "      <th>petal length (cm)</th>\n",
       "      <th>petal width (cm)</th>\n",
       "      <th>target</th>\n",
       "    </tr>\n",
       "  </thead>\n",
       "  <tbody>\n",
       "    <tr>\n",
       "      <th>0</th>\n",
       "      <td>5.1</td>\n",
       "      <td>3.5</td>\n",
       "      <td>1.4</td>\n",
       "      <td>0.2</td>\n",
       "      <td>0</td>\n",
       "    </tr>\n",
       "    <tr>\n",
       "      <th>1</th>\n",
       "      <td>4.9</td>\n",
       "      <td>3.0</td>\n",
       "      <td>1.4</td>\n",
       "      <td>0.2</td>\n",
       "      <td>0</td>\n",
       "    </tr>\n",
       "    <tr>\n",
       "      <th>2</th>\n",
       "      <td>4.7</td>\n",
       "      <td>3.2</td>\n",
       "      <td>1.3</td>\n",
       "      <td>0.2</td>\n",
       "      <td>0</td>\n",
       "    </tr>\n",
       "    <tr>\n",
       "      <th>3</th>\n",
       "      <td>4.6</td>\n",
       "      <td>3.1</td>\n",
       "      <td>1.5</td>\n",
       "      <td>0.2</td>\n",
       "      <td>0</td>\n",
       "    </tr>\n",
       "    <tr>\n",
       "      <th>4</th>\n",
       "      <td>5.0</td>\n",
       "      <td>3.6</td>\n",
       "      <td>1.4</td>\n",
       "      <td>0.2</td>\n",
       "      <td>0</td>\n",
       "    </tr>\n",
       "    <tr>\n",
       "      <th>...</th>\n",
       "      <td>...</td>\n",
       "      <td>...</td>\n",
       "      <td>...</td>\n",
       "      <td>...</td>\n",
       "      <td>...</td>\n",
       "    </tr>\n",
       "    <tr>\n",
       "      <th>145</th>\n",
       "      <td>6.7</td>\n",
       "      <td>3.0</td>\n",
       "      <td>5.2</td>\n",
       "      <td>2.3</td>\n",
       "      <td>2</td>\n",
       "    </tr>\n",
       "    <tr>\n",
       "      <th>146</th>\n",
       "      <td>6.3</td>\n",
       "      <td>2.5</td>\n",
       "      <td>5.0</td>\n",
       "      <td>1.9</td>\n",
       "      <td>2</td>\n",
       "    </tr>\n",
       "    <tr>\n",
       "      <th>147</th>\n",
       "      <td>6.5</td>\n",
       "      <td>3.0</td>\n",
       "      <td>5.2</td>\n",
       "      <td>2.0</td>\n",
       "      <td>2</td>\n",
       "    </tr>\n",
       "    <tr>\n",
       "      <th>148</th>\n",
       "      <td>6.2</td>\n",
       "      <td>3.4</td>\n",
       "      <td>5.4</td>\n",
       "      <td>2.3</td>\n",
       "      <td>2</td>\n",
       "    </tr>\n",
       "    <tr>\n",
       "      <th>149</th>\n",
       "      <td>5.9</td>\n",
       "      <td>3.0</td>\n",
       "      <td>5.1</td>\n",
       "      <td>1.8</td>\n",
       "      <td>2</td>\n",
       "    </tr>\n",
       "  </tbody>\n",
       "</table>\n",
       "<p>150 rows × 5 columns</p>\n",
       "</div>"
      ],
      "text/plain": [
       "     sepal length (cm)  sepal width (cm)  petal length (cm)  petal width (cm)  \\\n",
       "0                  5.1               3.5                1.4               0.2   \n",
       "1                  4.9               3.0                1.4               0.2   \n",
       "2                  4.7               3.2                1.3               0.2   \n",
       "3                  4.6               3.1                1.5               0.2   \n",
       "4                  5.0               3.6                1.4               0.2   \n",
       "..                 ...               ...                ...               ...   \n",
       "145                6.7               3.0                5.2               2.3   \n",
       "146                6.3               2.5                5.0               1.9   \n",
       "147                6.5               3.0                5.2               2.0   \n",
       "148                6.2               3.4                5.4               2.3   \n",
       "149                5.9               3.0                5.1               1.8   \n",
       "\n",
       "     target  \n",
       "0         0  \n",
       "1         0  \n",
       "2         0  \n",
       "3         0  \n",
       "4         0  \n",
       "..      ...  \n",
       "145       2  \n",
       "146       2  \n",
       "147       2  \n",
       "148       2  \n",
       "149       2  \n",
       "\n",
       "[150 rows x 5 columns]"
      ]
     },
     "execution_count": 2,
     "metadata": {},
     "output_type": "execute_result"
    }
   ],
=======
   "execution_count": null,
   "metadata": {},
   "outputs": [],
>>>>>>> 9f6a87d82b961e15d4f7dc6ccfde8576e2aca612
   "source": [
    "import pandas as pd\n",
    "df = pd.DataFrame(iris[\"data\"], columns=iris[\"feature_names\"])\n",
    "df[\"target\"] = iris[\"target\"]\n",
    "df.to_csv(\"iris.csv\", encoding=\"utf-8\", index=False)\n",
    "df"
   ]
  },
  {
   "cell_type": "code",
<<<<<<< HEAD
   "execution_count": 3,
   "metadata": {
    "collapsed": true
   },
   "outputs": [
    {
     "data": {
      "text/plain": [
       "<matplotlib.axes._subplots.AxesSubplot at 0x2657d21a668>"
      ]
     },
     "execution_count": 3,
     "metadata": {},
     "output_type": "execute_result"
    },
    {
     "data": {
      "image/png": "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\n",
      "text/plain": [
       "<Figure size 576x432 with 2 Axes>"
      ]
     },
     "metadata": {
      "needs_background": "light"
     },
     "output_type": "display_data"
    }
   ],
=======
   "execution_count": null,
   "metadata": {},
   "outputs": [],
>>>>>>> 9f6a87d82b961e15d4f7dc6ccfde8576e2aca612
   "source": [
    "import matplotlib.pyplot as plt\n",
    "import seaborn as sns\n",
    "%matplotlib inline\n",
    "plt.figure(figsize=(8, 6))\n",
    "sns.heatmap(df.astype(\"float\").corr(), cmap=\"jet\", annot=True)"
   ]
  },
  {
   "cell_type": "code",
<<<<<<< HEAD
   "execution_count": 4,
   "metadata": {
    "collapsed": true
   },
   "outputs": [
    {
     "data": {
      "text/html": [
       "<div>\n",
       "<style scoped>\n",
       "    .dataframe tbody tr th:only-of-type {\n",
       "        vertical-align: middle;\n",
       "    }\n",
       "\n",
       "    .dataframe tbody tr th {\n",
       "        vertical-align: top;\n",
       "    }\n",
       "\n",
       "    .dataframe thead th {\n",
       "        text-align: right;\n",
       "    }\n",
       "</style>\n",
       "<table border=\"1\" class=\"dataframe\">\n",
       "  <thead>\n",
       "    <tr style=\"text-align: right;\">\n",
       "      <th></th>\n",
       "      <th>sepal length (cm)</th>\n",
       "      <th>sepal width (cm)</th>\n",
       "      <th>petal length (cm)</th>\n",
       "      <th>petal width (cm)</th>\n",
       "      <th>target</th>\n",
       "    </tr>\n",
       "  </thead>\n",
       "  <tbody>\n",
       "    <tr>\n",
       "      <th>sepal length (cm)</th>\n",
       "      <td>1.000000</td>\n",
       "      <td>-0.117570</td>\n",
       "      <td>0.871754</td>\n",
       "      <td>0.817941</td>\n",
       "      <td>0.782561</td>\n",
       "    </tr>\n",
       "    <tr>\n",
       "      <th>sepal width (cm)</th>\n",
       "      <td>-0.117570</td>\n",
       "      <td>1.000000</td>\n",
       "      <td>-0.428440</td>\n",
       "      <td>-0.366126</td>\n",
       "      <td>-0.426658</td>\n",
       "    </tr>\n",
       "    <tr>\n",
       "      <th>petal length (cm)</th>\n",
       "      <td>0.871754</td>\n",
       "      <td>-0.428440</td>\n",
       "      <td>1.000000</td>\n",
       "      <td>0.962865</td>\n",
       "      <td>0.949035</td>\n",
       "    </tr>\n",
       "    <tr>\n",
       "      <th>petal width (cm)</th>\n",
       "      <td>0.817941</td>\n",
       "      <td>-0.366126</td>\n",
       "      <td>0.962865</td>\n",
       "      <td>1.000000</td>\n",
       "      <td>0.956547</td>\n",
       "    </tr>\n",
       "    <tr>\n",
       "      <th>target</th>\n",
       "      <td>0.782561</td>\n",
       "      <td>-0.426658</td>\n",
       "      <td>0.949035</td>\n",
       "      <td>0.956547</td>\n",
       "      <td>1.000000</td>\n",
       "    </tr>\n",
       "  </tbody>\n",
       "</table>\n",
       "</div>"
      ],
      "text/plain": [
       "                   sepal length (cm)  sepal width (cm)  petal length (cm)  \\\n",
       "sepal length (cm)           1.000000         -0.117570           0.871754   \n",
       "sepal width (cm)           -0.117570          1.000000          -0.428440   \n",
       "petal length (cm)           0.871754         -0.428440           1.000000   \n",
       "petal width (cm)            0.817941         -0.366126           0.962865   \n",
       "target                      0.782561         -0.426658           0.949035   \n",
       "\n",
       "                   petal width (cm)    target  \n",
       "sepal length (cm)          0.817941  0.782561  \n",
       "sepal width (cm)          -0.366126 -0.426658  \n",
       "petal length (cm)          0.962865  0.949035  \n",
       "petal width (cm)           1.000000  0.956547  \n",
       "target                     0.956547  1.000000  "
      ]
     },
     "execution_count": 4,
     "metadata": {},
     "output_type": "execute_result"
    }
   ],
=======
   "execution_count": null,
   "metadata": {},
   "outputs": [],
>>>>>>> 9f6a87d82b961e15d4f7dc6ccfde8576e2aca612
   "source": [
    "df.corr()"
   ]
  },
  {
   "cell_type": "code",
<<<<<<< HEAD
   "execution_count": 5,
   "metadata": {
    "collapsed": true
   },
   "outputs": [
    {
     "data": {
      "text/plain": [
       "(     sepal length (cm)  sepal width (cm)  petal length (cm)  petal width (cm)\n",
       " 112                6.8               3.0                5.5               2.1\n",
       " 135                7.7               3.0                6.1               2.3\n",
       " 26                 5.0               3.4                1.6               0.4\n",
       " 94                 5.6               2.7                4.2               1.3\n",
       " 101                5.8               2.7                5.1               1.9\n",
       " ..                 ...               ...                ...               ...\n",
       " 40                 5.0               3.5                1.3               0.3\n",
       " 69                 5.6               2.5                3.9               1.1\n",
       " 20                 5.4               3.4                1.7               0.2\n",
       " 126                6.2               2.8                4.8               1.8\n",
       " 49                 5.0               3.3                1.4               0.2\n",
       " \n",
       " [135 rows x 4 columns],\n",
       "      sepal length (cm)  sepal width (cm)  petal length (cm)  petal width (cm)\n",
       " 139                6.9               3.1                5.4               2.1\n",
       " 83                 6.0               2.7                5.1               1.6\n",
       " 117                7.7               3.8                6.7               2.2\n",
       " 72                 6.3               2.5                4.9               1.5\n",
       " 107                7.3               2.9                6.3               1.8\n",
       " 50                 7.0               3.2                4.7               1.4\n",
       " 148                6.2               3.4                5.4               2.3\n",
       " 75                 6.6               3.0                4.4               1.4\n",
       " 121                5.6               2.8                4.9               2.0\n",
       " 146                6.3               2.5                5.0               1.9\n",
       " 15                 5.7               4.4                1.5               0.4\n",
       " 138                6.0               3.0                4.8               1.8\n",
       " 129                7.2               3.0                5.8               1.6\n",
       " 19                 5.1               3.8                1.5               0.3\n",
       " 12                 4.8               3.0                1.4               0.1,\n",
       " 112    2\n",
       " 135    2\n",
       " 26     0\n",
       " 94     1\n",
       " 101    2\n",
       "       ..\n",
       " 40     0\n",
       " 69     1\n",
       " 20     0\n",
       " 126    2\n",
       " 49     0\n",
       " Name: target, Length: 135, dtype: int32,\n",
       " 139    2\n",
       " 83     1\n",
       " 117    2\n",
       " 72     1\n",
       " 107    2\n",
       " 50     1\n",
       " 148    2\n",
       " 75     1\n",
       " 121    2\n",
       " 146    2\n",
       " 15     0\n",
       " 138    2\n",
       " 129    2\n",
       " 19     0\n",
       " 12     0\n",
       " Name: target, dtype: int32)"
      ]
     },
     "execution_count": 5,
     "metadata": {},
     "output_type": "execute_result"
    }
   ],
=======
   "execution_count": null,
   "metadata": {},
   "outputs": [],
>>>>>>> 9f6a87d82b961e15d4f7dc6ccfde8576e2aca612
   "source": [
    "from sklearn.model_selection import train_test_split\n",
    "# train_test_split >>> output (特徵90%, 特徵10%, 目標90%, 目標10%) (tuple)\n",
    "x_train, x_test, y_train, y_test = train_test_split(df.drop([\"target\"], axis=1), df[\"target\"], test_size=0.1)\n",
    "x_train, x_test, y_train, y_test"
   ]
  },
  {
   "cell_type": "code",
   "execution_count": null,
   "metadata": {},
   "outputs": [],
   "source": [
    "from sklearn.tree import DecisionTreeClassifier\n",
    "clf = DecisionTreeClassifier()\n",
    "clf.fit(x_train, y_train)"
   ]
  },
  {
   "cell_type": "code",
<<<<<<< HEAD
   "execution_count": 7,
   "metadata": {
    "collapsed": true
   },
   "outputs": [
    {
     "data": {
      "image/svg+xml": [
       "<?xml version=\"1.0\" encoding=\"UTF-8\" standalone=\"no\"?>\r\n",
       "<!DOCTYPE svg PUBLIC \"-//W3C//DTD SVG 1.1//EN\"\r\n",
       " \"http://www.w3.org/Graphics/SVG/1.1/DTD/svg11.dtd\">\r\n",
       "<!-- Generated by graphviz version 2.38.0 (20140413.2041)\r\n",
       " -->\r\n",
       "<!-- Title: Tree Pages: 1 -->\r\n",
       "<svg width=\"575pt\" height=\"552pt\"\r\n",
       " viewBox=\"0.00 0.00 575.00 552.00\" xmlns=\"http://www.w3.org/2000/svg\" xmlns:xlink=\"http://www.w3.org/1999/xlink\">\r\n",
       "<g id=\"graph0\" class=\"graph\" transform=\"scale(1 1) rotate(0) translate(4 548)\">\r\n",
       "<title>Tree</title>\r\n",
       "<polygon fill=\"white\" stroke=\"none\" points=\"-4,4 -4,-548 571,-548 571,4 -4,4\"/>\r\n",
       "<!-- 0 -->\r\n",
       "<g id=\"node1\" class=\"node\"><title>0</title>\r\n",
       "<polygon fill=\"#fffefd\" stroke=\"black\" points=\"284.5,-544 135.5,-544 135.5,-461 284.5,-461 284.5,-544\"/>\r\n",
       "<text text-anchor=\"start\" x=\"143.5\" y=\"-528.8\" font-family=\"Times New Roman,serif\" font-size=\"14.00\">petal length (cm) ≤ 2.45</text>\r\n",
       "<text text-anchor=\"start\" x=\"176.5\" y=\"-513.8\" font-family=\"Times New Roman,serif\" font-size=\"14.00\">gini = 0.666</text>\r\n",
       "<text text-anchor=\"start\" x=\"169\" y=\"-498.8\" font-family=\"Times New Roman,serif\" font-size=\"14.00\">samples = 135</text>\r\n",
       "<text text-anchor=\"start\" x=\"155.5\" y=\"-483.8\" font-family=\"Times New Roman,serif\" font-size=\"14.00\">value = [47, 46, 42]</text>\r\n",
       "<text text-anchor=\"start\" x=\"170.5\" y=\"-468.8\" font-family=\"Times New Roman,serif\" font-size=\"14.00\">class = setosa</text>\r\n",
       "</g>\r\n",
       "<!-- 1 -->\r\n",
       "<g id=\"node2\" class=\"node\"><title>1</title>\r\n",
       "<polygon fill=\"#e58139\" stroke=\"black\" points=\"192,-417.5 80,-417.5 80,-349.5 192,-349.5 192,-417.5\"/>\r\n",
       "<text text-anchor=\"start\" x=\"109.5\" y=\"-402.3\" font-family=\"Times New Roman,serif\" font-size=\"14.00\">gini = 0.0</text>\r\n",
       "<text text-anchor=\"start\" x=\"98.5\" y=\"-387.3\" font-family=\"Times New Roman,serif\" font-size=\"14.00\">samples = 47</text>\r\n",
       "<text text-anchor=\"start\" x=\"88\" y=\"-372.3\" font-family=\"Times New Roman,serif\" font-size=\"14.00\">value = [47, 0, 0]</text>\r\n",
       "<text text-anchor=\"start\" x=\"96.5\" y=\"-357.3\" font-family=\"Times New Roman,serif\" font-size=\"14.00\">class = setosa</text>\r\n",
       "</g>\r\n",
       "<!-- 0&#45;&gt;1 -->\r\n",
       "<g id=\"edge1\" class=\"edge\"><title>0&#45;&gt;1</title>\r\n",
       "<path fill=\"none\" stroke=\"black\" d=\"M184.326,-460.907C177.277,-449.763 169.621,-437.658 162.526,-426.439\"/>\r\n",
       "<polygon fill=\"black\" stroke=\"black\" points=\"165.281,-424.248 156.977,-417.667 159.365,-427.989 165.281,-424.248\"/>\r\n",
       "<text text-anchor=\"middle\" x=\"151.487\" y=\"-438.356\" font-family=\"Times New Roman,serif\" font-size=\"14.00\">True</text>\r\n",
       "</g>\r\n",
       "<!-- 2 -->\r\n",
       "<g id=\"node3\" class=\"node\"><title>2</title>\r\n",
       "<polygon fill=\"#eefdf4\" stroke=\"black\" points=\"359.5,-425 210.5,-425 210.5,-342 359.5,-342 359.5,-425\"/>\r\n",
       "<text text-anchor=\"start\" x=\"218.5\" y=\"-409.8\" font-family=\"Times New Roman,serif\" font-size=\"14.00\">petal length (cm) ≤ 4.85</text>\r\n",
       "<text text-anchor=\"start\" x=\"251.5\" y=\"-394.8\" font-family=\"Times New Roman,serif\" font-size=\"14.00\">gini = 0.499</text>\r\n",
       "<text text-anchor=\"start\" x=\"247.5\" y=\"-379.8\" font-family=\"Times New Roman,serif\" font-size=\"14.00\">samples = 88</text>\r\n",
       "<text text-anchor=\"start\" x=\"233.5\" y=\"-364.8\" font-family=\"Times New Roman,serif\" font-size=\"14.00\">value = [0, 46, 42]</text>\r\n",
       "<text text-anchor=\"start\" x=\"235\" y=\"-349.8\" font-family=\"Times New Roman,serif\" font-size=\"14.00\">class = versicolor</text>\r\n",
       "</g>\r\n",
       "<!-- 0&#45;&gt;2 -->\r\n",
       "<g id=\"edge2\" class=\"edge\"><title>0&#45;&gt;2</title>\r\n",
       "<path fill=\"none\" stroke=\"black\" d=\"M236.021,-460.907C241.664,-452.105 247.69,-442.703 253.518,-433.612\"/>\r\n",
       "<polygon fill=\"black\" stroke=\"black\" points=\"256.575,-435.328 259.025,-425.021 250.682,-431.551 256.575,-435.328\"/>\r\n",
       "<text text-anchor=\"middle\" x=\"264.368\" y=\"-445.743\" font-family=\"Times New Roman,serif\" font-size=\"14.00\">False</text>\r\n",
       "</g>\r\n",
       "<!-- 3 -->\r\n",
       "<g id=\"node4\" class=\"node\"><title>3</title>\r\n",
       "<polygon fill=\"#42e687\" stroke=\"black\" points=\"276,-306 130,-306 130,-223 276,-223 276,-306\"/>\r\n",
       "<text text-anchor=\"start\" x=\"138\" y=\"-290.8\" font-family=\"Times New Roman,serif\" font-size=\"14.00\">petal width (cm) ≤ 1.65</text>\r\n",
       "<text text-anchor=\"start\" x=\"169.5\" y=\"-275.8\" font-family=\"Times New Roman,serif\" font-size=\"14.00\">gini = 0.083</text>\r\n",
       "<text text-anchor=\"start\" x=\"165.5\" y=\"-260.8\" font-family=\"Times New Roman,serif\" font-size=\"14.00\">samples = 46</text>\r\n",
       "<text text-anchor=\"start\" x=\"155\" y=\"-245.8\" font-family=\"Times New Roman,serif\" font-size=\"14.00\">value = [0, 44, 2]</text>\r\n",
       "<text text-anchor=\"start\" x=\"153\" y=\"-230.8\" font-family=\"Times New Roman,serif\" font-size=\"14.00\">class = versicolor</text>\r\n",
       "</g>\r\n",
       "<!-- 2&#45;&gt;3 -->\r\n",
       "<g id=\"edge3\" class=\"edge\"><title>2&#45;&gt;3</title>\r\n",
       "<path fill=\"none\" stroke=\"black\" d=\"M256.551,-341.907C250.317,-333.014 243.656,-323.509 237.223,-314.331\"/>\r\n",
       "<polygon fill=\"black\" stroke=\"black\" points=\"240.005,-312.201 231.399,-306.021 234.272,-316.219 240.005,-312.201\"/>\r\n",
       "</g>\r\n",
       "<!-- 8 -->\r\n",
       "<g id=\"node9\" class=\"node\"><title>8</title>\r\n",
       "<polygon fill=\"#8743e6\" stroke=\"black\" points=\"440,-306 294,-306 294,-223 440,-223 440,-306\"/>\r\n",
       "<text text-anchor=\"start\" x=\"302\" y=\"-290.8\" font-family=\"Times New Roman,serif\" font-size=\"14.00\">petal width (cm) ≤ 1.75</text>\r\n",
       "<text text-anchor=\"start\" x=\"333.5\" y=\"-275.8\" font-family=\"Times New Roman,serif\" font-size=\"14.00\">gini = 0.091</text>\r\n",
       "<text text-anchor=\"start\" x=\"329.5\" y=\"-260.8\" font-family=\"Times New Roman,serif\" font-size=\"14.00\">samples = 42</text>\r\n",
       "<text text-anchor=\"start\" x=\"319\" y=\"-245.8\" font-family=\"Times New Roman,serif\" font-size=\"14.00\">value = [0, 2, 40]</text>\r\n",
       "<text text-anchor=\"start\" x=\"321.5\" y=\"-230.8\" font-family=\"Times New Roman,serif\" font-size=\"14.00\">class = virginica</text>\r\n",
       "</g>\r\n",
       "<!-- 2&#45;&gt;8 -->\r\n",
       "<g id=\"edge8\" class=\"edge\"><title>2&#45;&gt;8</title>\r\n",
       "<path fill=\"none\" stroke=\"black\" d=\"M313.449,-341.907C319.683,-333.014 326.344,-323.509 332.777,-314.331\"/>\r\n",
       "<polygon fill=\"black\" stroke=\"black\" points=\"335.728,-316.219 338.601,-306.021 329.995,-312.201 335.728,-316.219\"/>\r\n",
       "</g>\r\n",
       "<!-- 4 -->\r\n",
       "<g id=\"node5\" class=\"node\"><title>4</title>\r\n",
       "<polygon fill=\"#39e581\" stroke=\"black\" points=\"116,-179.5 0,-179.5 0,-111.5 116,-111.5 116,-179.5\"/>\r\n",
       "<text text-anchor=\"start\" x=\"31.5\" y=\"-164.3\" font-family=\"Times New Roman,serif\" font-size=\"14.00\">gini = 0.0</text>\r\n",
       "<text text-anchor=\"start\" x=\"20.5\" y=\"-149.3\" font-family=\"Times New Roman,serif\" font-size=\"14.00\">samples = 43</text>\r\n",
       "<text text-anchor=\"start\" x=\"10\" y=\"-134.3\" font-family=\"Times New Roman,serif\" font-size=\"14.00\">value = [0, 43, 0]</text>\r\n",
       "<text text-anchor=\"start\" x=\"8\" y=\"-119.3\" font-family=\"Times New Roman,serif\" font-size=\"14.00\">class = versicolor</text>\r\n",
       "</g>\r\n",
       "<!-- 3&#45;&gt;4 -->\r\n",
       "<g id=\"edge4\" class=\"edge\"><title>3&#45;&gt;4</title>\r\n",
       "<path fill=\"none\" stroke=\"black\" d=\"M152.693,-222.907C137.924,-210.99 121.795,-197.976 107.102,-186.12\"/>\r\n",
       "<polygon fill=\"black\" stroke=\"black\" points=\"109.085,-183.223 99.1043,-179.667 104.689,-188.67 109.085,-183.223\"/>\r\n",
       "</g>\r\n",
       "<!-- 5 -->\r\n",
       "<g id=\"node6\" class=\"node\"><title>5</title>\r\n",
       "<polygon fill=\"#c09cf2\" stroke=\"black\" points=\"276,-187 134,-187 134,-104 276,-104 276,-187\"/>\r\n",
       "<text text-anchor=\"start\" x=\"142\" y=\"-171.8\" font-family=\"Times New Roman,serif\" font-size=\"14.00\">sepal width (cm) ≤ 3.0</text>\r\n",
       "<text text-anchor=\"start\" x=\"171.5\" y=\"-156.8\" font-family=\"Times New Roman,serif\" font-size=\"14.00\">gini = 0.444</text>\r\n",
       "<text text-anchor=\"start\" x=\"171\" y=\"-141.8\" font-family=\"Times New Roman,serif\" font-size=\"14.00\">samples = 3</text>\r\n",
       "<text text-anchor=\"start\" x=\"160.5\" y=\"-126.8\" font-family=\"Times New Roman,serif\" font-size=\"14.00\">value = [0, 1, 2]</text>\r\n",
       "<text text-anchor=\"start\" x=\"159.5\" y=\"-111.8\" font-family=\"Times New Roman,serif\" font-size=\"14.00\">class = virginica</text>\r\n",
       "</g>\r\n",
       "<!-- 3&#45;&gt;5 -->\r\n",
       "<g id=\"edge5\" class=\"edge\"><title>3&#45;&gt;5</title>\r\n",
       "<path fill=\"none\" stroke=\"black\" d=\"M203.694,-222.907C203.837,-214.558 203.989,-205.671 204.136,-197.02\"/>\r\n",
       "<polygon fill=\"black\" stroke=\"black\" points=\"207.636,-197.079 204.307,-187.021 200.637,-196.959 207.636,-197.079\"/>\r\n",
       "</g>\r\n",
       "<!-- 6 -->\r\n",
       "<g id=\"node7\" class=\"node\"><title>6</title>\r\n",
       "<polygon fill=\"#8139e5\" stroke=\"black\" points=\"136.5,-68 29.5,-68 29.5,-0 136.5,-0 136.5,-68\"/>\r\n",
       "<text text-anchor=\"start\" x=\"56.5\" y=\"-52.8\" font-family=\"Times New Roman,serif\" font-size=\"14.00\">gini = 0.0</text>\r\n",
       "<text text-anchor=\"start\" x=\"49\" y=\"-37.8\" font-family=\"Times New Roman,serif\" font-size=\"14.00\">samples = 2</text>\r\n",
       "<text text-anchor=\"start\" x=\"38.5\" y=\"-22.8\" font-family=\"Times New Roman,serif\" font-size=\"14.00\">value = [0, 0, 2]</text>\r\n",
       "<text text-anchor=\"start\" x=\"37.5\" y=\"-7.8\" font-family=\"Times New Roman,serif\" font-size=\"14.00\">class = virginica</text>\r\n",
       "</g>\r\n",
       "<!-- 5&#45;&gt;6 -->\r\n",
       "<g id=\"edge6\" class=\"edge\"><title>5&#45;&gt;6</title>\r\n",
       "<path fill=\"none\" stroke=\"black\" d=\"M159.572,-103.726C149.105,-94.3318 137.982,-84.349 127.553,-74.9883\"/>\r\n",
       "<polygon fill=\"black\" stroke=\"black\" points=\"129.881,-72.3744 120.101,-68.2996 125.205,-77.5839 129.881,-72.3744\"/>\r\n",
       "</g>\r\n",
       "<!-- 7 -->\r\n",
       "<g id=\"node8\" class=\"node\"><title>7</title>\r\n",
       "<polygon fill=\"#39e581\" stroke=\"black\" points=\"271,-68 155,-68 155,-0 271,-0 271,-68\"/>\r\n",
       "<text text-anchor=\"start\" x=\"186.5\" y=\"-52.8\" font-family=\"Times New Roman,serif\" font-size=\"14.00\">gini = 0.0</text>\r\n",
       "<text text-anchor=\"start\" x=\"179\" y=\"-37.8\" font-family=\"Times New Roman,serif\" font-size=\"14.00\">samples = 1</text>\r\n",
       "<text text-anchor=\"start\" x=\"168.5\" y=\"-22.8\" font-family=\"Times New Roman,serif\" font-size=\"14.00\">value = [0, 1, 0]</text>\r\n",
       "<text text-anchor=\"start\" x=\"163\" y=\"-7.8\" font-family=\"Times New Roman,serif\" font-size=\"14.00\">class = versicolor</text>\r\n",
       "</g>\r\n",
       "<!-- 5&#45;&gt;7 -->\r\n",
       "<g id=\"edge7\" class=\"edge\"><title>5&#45;&gt;7</title>\r\n",
       "<path fill=\"none\" stroke=\"black\" d=\"M207.979,-103.726C208.585,-95.4263 209.225,-86.6671 209.838,-78.2834\"/>\r\n",
       "<polygon fill=\"black\" stroke=\"black\" points=\"213.329,-78.5281 210.567,-68.2996 206.348,-78.018 213.329,-78.5281\"/>\r\n",
       "</g>\r\n",
       "<!-- 9 -->\r\n",
       "<g id=\"node10\" class=\"node\"><title>9</title>\r\n",
       "<polygon fill=\"#d5bdf6\" stroke=\"black\" points=\"437,-187 295,-187 295,-104 437,-104 437,-187\"/>\r\n",
       "<text text-anchor=\"start\" x=\"303\" y=\"-171.8\" font-family=\"Times New Roman,serif\" font-size=\"14.00\">sepal width (cm) ≤ 2.9</text>\r\n",
       "<text text-anchor=\"start\" x=\"336\" y=\"-156.8\" font-family=\"Times New Roman,serif\" font-size=\"14.00\">gini = 0.48</text>\r\n",
       "<text text-anchor=\"start\" x=\"332\" y=\"-141.8\" font-family=\"Times New Roman,serif\" font-size=\"14.00\">samples = 5</text>\r\n",
       "<text text-anchor=\"start\" x=\"321.5\" y=\"-126.8\" font-family=\"Times New Roman,serif\" font-size=\"14.00\">value = [0, 2, 3]</text>\r\n",
       "<text text-anchor=\"start\" x=\"320.5\" y=\"-111.8\" font-family=\"Times New Roman,serif\" font-size=\"14.00\">class = virginica</text>\r\n",
       "</g>\r\n",
       "<!-- 8&#45;&gt;9 -->\r\n",
       "<g id=\"edge9\" class=\"edge\"><title>8&#45;&gt;9</title>\r\n",
       "<path fill=\"none\" stroke=\"black\" d=\"M366.653,-222.907C366.582,-214.649 366.507,-205.864 366.434,-197.302\"/>\r\n",
       "<polygon fill=\"black\" stroke=\"black\" points=\"369.932,-196.99 366.346,-187.021 362.932,-197.05 369.932,-196.99\"/>\r\n",
       "</g>\r\n",
       "<!-- 12 -->\r\n",
       "<g id=\"node13\" class=\"node\"><title>12</title>\r\n",
       "<polygon fill=\"#8139e5\" stroke=\"black\" points=\"567,-179.5 455,-179.5 455,-111.5 567,-111.5 567,-179.5\"/>\r\n",
       "<text text-anchor=\"start\" x=\"484.5\" y=\"-164.3\" font-family=\"Times New Roman,serif\" font-size=\"14.00\">gini = 0.0</text>\r\n",
       "<text text-anchor=\"start\" x=\"473.5\" y=\"-149.3\" font-family=\"Times New Roman,serif\" font-size=\"14.00\">samples = 37</text>\r\n",
       "<text text-anchor=\"start\" x=\"463\" y=\"-134.3\" font-family=\"Times New Roman,serif\" font-size=\"14.00\">value = [0, 0, 37]</text>\r\n",
       "<text text-anchor=\"start\" x=\"465.5\" y=\"-119.3\" font-family=\"Times New Roman,serif\" font-size=\"14.00\">class = virginica</text>\r\n",
       "</g>\r\n",
       "<!-- 8&#45;&gt;12 -->\r\n",
       "<g id=\"edge12\" class=\"edge\"><title>8&#45;&gt;12</title>\r\n",
       "<path fill=\"none\" stroke=\"black\" d=\"M416.96,-222.907C431.627,-210.99 447.645,-197.976 462.237,-186.12\"/>\r\n",
       "<polygon fill=\"black\" stroke=\"black\" points=\"464.625,-188.689 470.179,-179.667 460.211,-183.256 464.625,-188.689\"/>\r\n",
       "</g>\r\n",
       "<!-- 10 -->\r\n",
       "<g id=\"node11\" class=\"node\"><title>10</title>\r\n",
       "<polygon fill=\"#8139e5\" stroke=\"black\" points=\"411.5,-68 304.5,-68 304.5,-0 411.5,-0 411.5,-68\"/>\r\n",
       "<text text-anchor=\"start\" x=\"331.5\" y=\"-52.8\" font-family=\"Times New Roman,serif\" font-size=\"14.00\">gini = 0.0</text>\r\n",
       "<text text-anchor=\"start\" x=\"324\" y=\"-37.8\" font-family=\"Times New Roman,serif\" font-size=\"14.00\">samples = 3</text>\r\n",
       "<text text-anchor=\"start\" x=\"313.5\" y=\"-22.8\" font-family=\"Times New Roman,serif\" font-size=\"14.00\">value = [0, 0, 3]</text>\r\n",
       "<text text-anchor=\"start\" x=\"312.5\" y=\"-7.8\" font-family=\"Times New Roman,serif\" font-size=\"14.00\">class = virginica</text>\r\n",
       "</g>\r\n",
       "<!-- 9&#45;&gt;10 -->\r\n",
       "<g id=\"edge10\" class=\"edge\"><title>9&#45;&gt;10</title>\r\n",
       "<path fill=\"none\" stroke=\"black\" d=\"M363.021,-103.726C362.415,-95.4263 361.775,-86.6671 361.162,-78.2834\"/>\r\n",
       "<polygon fill=\"black\" stroke=\"black\" points=\"364.652,-78.018 360.433,-68.2996 357.671,-78.5281 364.652,-78.018\"/>\r\n",
       "</g>\r\n",
       "<!-- 11 -->\r\n",
       "<g id=\"node12\" class=\"node\"><title>11</title>\r\n",
       "<polygon fill=\"#39e581\" stroke=\"black\" points=\"546,-68 430,-68 430,-0 546,-0 546,-68\"/>\r\n",
       "<text text-anchor=\"start\" x=\"461.5\" y=\"-52.8\" font-family=\"Times New Roman,serif\" font-size=\"14.00\">gini = 0.0</text>\r\n",
       "<text text-anchor=\"start\" x=\"454\" y=\"-37.8\" font-family=\"Times New Roman,serif\" font-size=\"14.00\">samples = 2</text>\r\n",
       "<text text-anchor=\"start\" x=\"443.5\" y=\"-22.8\" font-family=\"Times New Roman,serif\" font-size=\"14.00\">value = [0, 2, 0]</text>\r\n",
       "<text text-anchor=\"start\" x=\"438\" y=\"-7.8\" font-family=\"Times New Roman,serif\" font-size=\"14.00\">class = versicolor</text>\r\n",
       "</g>\r\n",
       "<!-- 9&#45;&gt;11 -->\r\n",
       "<g id=\"edge11\" class=\"edge\"><title>9&#45;&gt;11</title>\r\n",
       "<path fill=\"none\" stroke=\"black\" d=\"M411.428,-103.726C421.895,-94.3318 433.018,-84.349 443.447,-74.9883\"/>\r\n",
       "<polygon fill=\"black\" stroke=\"black\" points=\"445.795,-77.5839 450.899,-68.2996 441.119,-72.3744 445.795,-77.5839\"/>\r\n",
       "</g>\r\n",
       "</g>\r\n",
       "</svg>\r\n"
      ],
      "text/plain": [
       "<graphviz.files.Source at 0x26532436518>"
      ]
     },
     "execution_count": 7,
     "metadata": {},
     "output_type": "execute_result"
    }
   ],
=======
   "execution_count": null,
   "metadata": {},
   "outputs": [],
>>>>>>> 9f6a87d82b961e15d4f7dc6ccfde8576e2aca612
   "source": [
    "from sklearn.tree import export_graphviz\n",
    "import graphviz\n",
    "g = export_graphviz(clf, out_file=None, feature_names=iris[\"feature_names\"], class_names=iris[\"target_names\"], filled=True, special_characters=True)\n",
    "graphviz.Source(g)"
   ]
  },
  {
   "cell_type": "code",
   "execution_count": null,
   "metadata": {},
<<<<<<< HEAD
   "outputs": [
    {
     "name": "stdout",
     "output_type": "stream",
     "text": [
      "[2, 2, 2, 2, 2, 1, 2, 1, 2, 2, 0, 2, 1, 0, 0]\n",
      "[2, 1, 2, 1, 2, 1, 2, 1, 2, 2, 0, 2, 2, 0, 0]\n"
     ]
    }
   ],
=======
   "outputs": [],
>>>>>>> 9f6a87d82b961e15d4f7dc6ccfde8576e2aca612
   "source": [
    "pre = clf.predict(x_test)\n",
    "print(list(pre))\n",
    "print(list(y_test))"
   ]
  },
  {
   "cell_type": "code",
   "execution_count": null,
   "metadata": {},
<<<<<<< HEAD
   "outputs": [
    {
     "data": {
      "text/plain": [
       "0.8"
      ]
     },
     "execution_count": 9,
     "metadata": {},
     "output_type": "execute_result"
    }
   ],
=======
   "outputs": [],
>>>>>>> 9f6a87d82b961e15d4f7dc6ccfde8576e2aca612
   "source": [
    "from sklearn.metrics import accuracy_score\n",
    "accuracy_score(pre, y_test)"
   ]
  },
  {
   "cell_type": "code",
<<<<<<< HEAD
   "execution_count": 10,
   "metadata": {},
   "outputs": [
    {
     "data": {
      "text/html": [
       "<div>\n",
       "<style scoped>\n",
       "    .dataframe tbody tr th:only-of-type {\n",
       "        vertical-align: middle;\n",
       "    }\n",
       "\n",
       "    .dataframe tbody tr th {\n",
       "        vertical-align: top;\n",
       "    }\n",
       "\n",
       "    .dataframe thead th {\n",
       "        text-align: right;\n",
       "    }\n",
       "</style>\n",
       "<table border=\"1\" class=\"dataframe\">\n",
       "  <thead>\n",
       "    <tr style=\"text-align: right;\">\n",
       "      <th></th>\n",
       "      <th>0</th>\n",
       "      <th>1</th>\n",
       "      <th>2</th>\n",
       "    </tr>\n",
       "  </thead>\n",
       "  <tbody>\n",
       "    <tr>\n",
       "      <th>0</th>\n",
       "      <td>3</td>\n",
       "      <td>0</td>\n",
       "      <td>0</td>\n",
       "    </tr>\n",
       "    <tr>\n",
       "      <th>1</th>\n",
       "      <td>0</td>\n",
       "      <td>2</td>\n",
       "      <td>2</td>\n",
       "    </tr>\n",
       "    <tr>\n",
       "      <th>2</th>\n",
       "      <td>0</td>\n",
       "      <td>1</td>\n",
       "      <td>7</td>\n",
       "    </tr>\n",
       "  </tbody>\n",
       "</table>\n",
       "</div>"
      ],
      "text/plain": [
       "   0  1  2\n",
       "0  3  0  0\n",
       "1  0  2  2\n",
       "2  0  1  7"
      ]
     },
     "execution_count": 10,
     "metadata": {},
     "output_type": "execute_result"
    }
   ],
=======
   "execution_count": null,
   "metadata": {},
   "outputs": [],
>>>>>>> 9f6a87d82b961e15d4f7dc6ccfde8576e2aca612
   "source": [
    "from sklearn.metrics import confusion_matrix\n",
    "pd.DataFrame(confusion_matrix(y_test, pre))\n"
   ]
  },
  {
   "cell_type": "code",
   "execution_count": null,
   "metadata": {},
   "outputs": [],
   "source": []
  }
 ],
 "metadata": {
  "kernelspec": {
   "display_name": "Python 3",
   "language": "python",
   "name": "python3"
  },
  "language_info": {
   "codemirror_mode": {
    "name": "ipython",
    "version": 3
   },
   "file_extension": ".py",
   "mimetype": "text/x-python",
   "name": "python",
   "nbconvert_exporter": "python",
   "pygments_lexer": "ipython3",
   "version": "3.7.7"
  }
 },
 "nbformat": 4,
 "nbformat_minor": 4
}
